{
 "cells": [
  {
   "cell_type": "code",
   "execution_count": 4,
   "metadata": {
    "collapsed": true
   },
   "outputs": [],
   "source": [
    "import numpy as np\n",
    "import math\n",
    "import matplotlib.pyplot as plt"
   ]
  },
  {
   "cell_type": "code",
   "execution_count": null,
   "metadata": {
    "collapsed": false
   },
   "outputs": [],
   "source": [
    "#generatinf Wiener process\n",
    "N = 10000\n",
    "Z0=100\n",
    "eps = np.random.normal(0,1,N)\n",
    "sigma = [math.sqrt(t) for t in range(0,N)]\n",
    "di = [a*b for a,b in zip(eps,sigma)]\n",
    "def z(n):\n",
    "    global Z0\n",
    "    Z0+=n\n",
    "    return Z0\n",
    "ZZ=[z(x) for x in di]\n",
    "#plt.hist(ZZ)\n",
    "#Zi=[Z0]\n",
    "#for i in di:\n",
    "#    Z0=Z0+i\n",
    "#    Zi.append(Z0)\n",
    "plt.plot(ZZ)\n",
    "plt.ylabel('dZ')\n",
    "plt.show()"
   ]
  },
  {
   "cell_type": "code",
   "execution_count": 7,
   "metadata": {
    "collapsed": false
   },
   "outputs": [],
   "source": [
    "def ST(S0,r,sigma,T,eps):\n",
    "    return S0*math.exp((r-sigma*sigma*0.5)*T + sigma*eps*math.sqrt(T))"
   ]
  },
  {
   "cell_type": "code",
   "execution_count": 62,
   "metadata": {
    "collapsed": true
   },
   "outputs": [],
   "source": [
    "def simulatePrices(sims, S0, r, sigma, T):\n",
    "    eps = np.random.normal(0,1,sims)\n",
    "    prices = [ST(S0,r,sigma,T,x) for x in eps]\n",
    "    return prices"
   ]
  },
  {
   "cell_type": "code",
   "execution_count": 63,
   "metadata": {
    "collapsed": false
   },
   "outputs": [],
   "source": [
    "def MCPriceCall(sims, S0, r, sigma, T, K):\n",
    "    prices = simulatePrices(sims, S0, r, sigma, T)\n",
    "    payoff = [max(x-K,0) for x in prices]\n",
    "    \n",
    "    #return mean payoff discounted to PV\n",
    "    return np.mean(payoff)*math.exp(-r*T)"
   ]
  },
  {
   "cell_type": "code",
   "execution_count": 64,
   "metadata": {
    "collapsed": true
   },
   "outputs": [],
   "source": [
    "def MCPricePut(sims, S0, r, sigma, T, K):\n",
    "    prices = simulatePrices(sims, S0, r, sigma, T)\n",
    "    payoff = [max(K-x,0) for x in prices]\n",
    "    \n",
    "    #return mean payoff discounted to PV\n",
    "    return np.mean(payoff)*math.exp(-r*T)"
   ]
  },
  {
   "cell_type": "code",
   "execution_count": 85,
   "metadata": {
    "collapsed": false
   },
   "outputs": [
    {
     "name": "stdout",
     "output_type": "stream",
     "text": [
      "20.9876197665\n"
     ]
    }
   ],
   "source": [
    "print(MCPricePut(10000,237,0.03,0.35,1,220))"
   ]
  },
  {
   "cell_type": "code",
   "execution_count": 80,
   "metadata": {
    "collapsed": false
   },
   "outputs": [
    {
     "name": "stdout",
     "output_type": "stream",
     "text": [
      "38.8670745086\n"
     ]
    }
   ],
   "source": [
    "print(MCPriceCall(10000,237,0.03,0.35,1,230))"
   ]
  },
  {
   "cell_type": "code",
   "execution_count": null,
   "metadata": {
    "collapsed": true
   },
   "outputs": [],
   "source": []
  }
 ],
 "metadata": {
  "kernelspec": {
   "display_name": "Python 3",
   "language": "python",
   "name": "python3"
  },
  "language_info": {
   "codemirror_mode": {
    "name": "ipython",
    "version": 3
   },
   "file_extension": ".py",
   "mimetype": "text/x-python",
   "name": "python",
   "nbconvert_exporter": "python",
   "pygments_lexer": "ipython3",
   "version": "3.5.1"
  }
 },
 "nbformat": 4,
 "nbformat_minor": 0
}
