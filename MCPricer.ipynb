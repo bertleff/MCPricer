{
 "cells": [
  {
   "cell_type": "code",
   "execution_count": 1,
   "metadata": {
    "collapsed": true
   },
   "outputs": [],
   "source": [
    "import numpy as np\n",
    "import math\n",
    "import matplotlib.pyplot as plt"
   ]
  },
  {
   "cell_type": "code",
   "execution_count": 331,
   "metadata": {
    "collapsed": true
   },
   "outputs": [],
   "source": [
    "N = 10000"
   ]
  },
  {
   "cell_type": "code",
   "execution_count": 349,
   "metadata": {
    "collapsed": true
   },
   "outputs": [],
   "source": [
    "def geomBrown(S0,r,sigma,T,eps):\n",
    "    d = [S*np.exp((r-sigma*sigma*0.5)*T + sigma*eps[i]*np.sqrt(T)) for i,S in enumerate(S0)]\n",
    "    return d"
   ]
  },
  {
   "cell_type": "code",
   "execution_count": 347,
   "metadata": {
    "collapsed": false
   },
   "outputs": [],
   "source": [
    "def geomBrownIter(S0,r,sigma,T,dt=1,KOLevel=None):\n",
    "    dt=dt/365\n",
    "    expiries = np.linspace(0,T,T/dt,endpoint=True)\n",
    "    path = []\n",
    "    #generate path i-th element\n",
    "    for i,v in enumerate(expiries):\n",
    "        eps = np.random.normal(0,1,N)\n",
    "        if i==0:\n",
    "            Si = geomBrown(np.full(N,S0,np.double),r,sigma,dt,eps)\n",
    "        else:\n",
    "            Si = geomBrown(path[-1],r,sigma,dt,eps)\n",
    "        path.append(Si)\n",
    "    return path"
   ]
  },
  {
   "cell_type": "code",
   "execution_count": 346,
   "metadata": {
    "collapsed": false
   },
   "outputs": [],
   "source": [
    "def callPayoff(S,K):\n",
    "    return max(S-K,0)\n",
    "\n",
    "def putPayoff(S,K):\n",
    "    return max(K-S,0)\n",
    "\n",
    "def vanillaPrice(S0,r,sigma,T,K,f):\n",
    "    paths=geomBrownIter(S0,r,sigma,T)\n",
    "    ST = paths[-1] # list simulated prices at expiry\n",
    "    payoffs = [f(STi,K) for STi in ST]\n",
    "    return np.mean(payoffs)*math.exp(-r*T)\n",
    "\n",
    "def vanillaCall(S0,r,sigma,T,K):\n",
    "    return vanillaPrice(S0,r,sigma,T,K,callPayOff)\n",
    "    \n",
    "def vanillaPut(S0,r,sigma,T,K):\n",
    "    return vanillaPrice(S0,r,sigma,T,K,putPayoff)"
   ]
  },
  {
   "cell_type": "code",
   "execution_count": 336,
   "metadata": {
    "collapsed": false
   },
   "outputs": [
    {
     "name": "stdout",
     "output_type": "stream",
     "text": [
      "34.5493472939\n",
      "0.702011087326\n"
     ]
    }
   ],
   "source": [
    "vc = vanillaCall(269, 0.01, 0.43, 0.58, 270)\n",
    "print(vc)\n",
    "\n",
    "vp = vanillaPut(269, 0.01, 0.43, 0.58, 145)\n",
    "print(vp)"
   ]
  },
  {
   "cell_type": "code",
   "execution_count": 372,
   "metadata": {
    "collapsed": false
   },
   "outputs": [],
   "source": [
    "def asianBarrierCallPayoff(SPath,K,B):\n",
    "    sum=0\n",
    "    for Si in SPath:\n",
    "        if Si>B:\n",
    "            return 0\n",
    "        sum+=Si\n",
    "    return max(sum/len(SPath)-K,0)\n",
    "                   \n",
    "def asianBarrierPutPayoff(SPath,K,B):\n",
    "    sum=0\n",
    "    for Si in SPath:\n",
    "        if Si>B:\n",
    "            return 0\n",
    "        sum+=Si\n",
    "        return max(K-sum/len(SPath),0)\n",
    "    \n",
    "def asianPrice(S0,r,sigma,T,K,f,B):\n",
    "    paths=geomBrownIter(S0, r, sigma, T)\n",
    "    STs = np.array(list(zip(*paths)))\n",
    "    payoffs = [f(STi,K,B) for STi in STs]\n",
    "    return np.mean(payoffs)\n",
    "    \n",
    "def asianCall(S0,r,sigma,T,K,B=None):\n",
    "    return asianPrice(S0,r,sigma,T,K,asianBarrierCallPayoff,B)\n",
    "\n",
    "def asianPut(S0,r,sigma,T,K,B=None):\n",
    "    return asianPrice(S0,r,sigma,T,K,asianBarrierPutPayoff,B)"
   ]
  },
  {
   "cell_type": "code",
   "execution_count": 374,
   "metadata": {
    "collapsed": false
   },
   "outputs": [
    {
     "name": "stdout",
     "output_type": "stream",
     "text": [
      "0.0\n"
     ]
    }
   ],
   "source": [
    "ac = asianCall(40, 0.02, 0.3, 0.5, 39.5, 41.5)\n",
    "print(ac)"
   ]
  },
  {
   "cell_type": "code",
   "execution_count": 338,
   "metadata": {
    "collapsed": false
   },
   "outputs": [
    {
     "name": "stdout",
     "output_type": "stream",
     "text": [
      "2.73055341231\n"
     ]
    }
   ],
   "source": [
    "ap = asianPut(40, 0.02, 0.3, 0.5, 41.5)\n",
    "print(ap)"
   ]
  },
  {
   "cell_type": "code",
   "execution_count": 342,
   "metadata": {
    "collapsed": false
   },
   "outputs": [],
   "source": [
    "def barrierPrice(S0,r,sigma,T,K,KOBarrier,f):\n",
    "    paths=geomBrownIter(S0, r, sigma, T)\n",
    "    STs = np.array(list(zip(*paths)))\n",
    "    \n",
    "    payoffs=[]\n",
    "    for STi in STs:\n",
    "        for Si in STi:\n",
    "            if Si > KOBarrier:\n",
    "                payoffs.append(0.0)\n",
    "                break\n",
    "        payoffs.append(f(Si,K))\n",
    "    return np.mean(payoffs)*math.exp(-r*T)\n",
    "\n",
    "def barrierCall(S0,r,sigma,T,K,KOBarrier):\n",
    "    return barrierPrice(S0,r,sigma,T,K,KOBarrier,callPayoff)\n",
    "\n",
    "def barrierPut(S0,r,sigma,T,K,KOBarrier):\n",
    "    return barrierPrice(S0,r,sigma,T,K,KOBarrier,putPayoff)"
   ]
  },
  {
   "cell_type": "code",
   "execution_count": 343,
   "metadata": {
    "collapsed": false
   },
   "outputs": [
    {
     "name": "stdout",
     "output_type": "stream",
     "text": [
      "0.00606161345715\n"
     ]
    }
   ],
   "source": [
    "bc = barrierCall(40, 0.02, 0.3, 0.5, 41.5, 40.5)\n",
    "print(bc)"
   ]
  },
  {
   "cell_type": "code",
   "execution_count": 340,
   "metadata": {
    "collapsed": false
   },
   "outputs": [
    {
     "name": "stdout",
     "output_type": "stream",
     "text": [
      "0.739503336713\n"
     ]
    }
   ],
   "source": [
    "bp = barrierPut(40, 0.02, 0.3, 0.5, 41.5, 40.5)\n",
    "print(bp)"
   ]
  },
  {
   "cell_type": "code",
   "execution_count": null,
   "metadata": {
    "collapsed": true
   },
   "outputs": [],
   "source": []
  },
  {
   "cell_type": "code",
   "execution_count": null,
   "metadata": {
    "collapsed": true
   },
   "outputs": [],
   "source": []
  }
 ],
 "metadata": {
  "kernelspec": {
   "display_name": "Python 3",
   "language": "python",
   "name": "python3"
  },
  "language_info": {
   "codemirror_mode": {
    "name": "ipython",
    "version": 3
   },
   "file_extension": ".py",
   "mimetype": "text/x-python",
   "name": "python",
   "nbconvert_exporter": "python",
   "pygments_lexer": "ipython3",
   "version": "3.5.1"
  }
 },
 "nbformat": 4,
 "nbformat_minor": 0
}
